{
 "cells": [
  {
   "cell_type": "markdown",
   "metadata": {},
   "source": [
    "# Text Classification Using a 1D CNN\n",
    "\n",
    "This notebook is an example of using a 1D convolutional neural network to classify input texts. We will use [20Newsgroup dataset](http://qwone.com/~jason/20Newsgroups/) from which we work on 4 classes under the science category. Read more about this dataset from [scikit-learn](https://scikit-learn.org/0.19/datasets/twenty_newsgroups.html). After classification, we will try using several local explanation methods to explain why the CNN predicts a particular class.  "
   ]
  },
  {
   "cell_type": "code",
   "execution_count": 1,
   "metadata": {},
   "outputs": [
    {
     "name": "stderr",
     "output_type": "stream",
     "text": [
      "Using TensorFlow backend.\n",
      "D:\\Imperial PhD\\PublishedRepos\\CNNAnalysis\\venv\\lib\\site-packages\\sklearn\\externals\\six.py:31: DeprecationWarning: The module is deprecated in version 0.21 and will be removed in version 0.23 since we've dropped support for Python 2.7. Please rely on the official version of six (https://pypi.org/project/six/).\n",
      "  \"(https://pypi.org/project/six/).\", DeprecationWarning)\n"
     ]
    }
   ],
   "source": [
    "import sys\n",
    "sys.path.append(\"..\")\n",
    "from analysis import *\n",
    "from pprint import pprint\n",
    "import json, csv"
   ]
  },
  {
   "cell_type": "markdown",
   "metadata": {},
   "source": [
    "## Set up the project"
   ]
  },
  {
   "cell_type": "markdown",
   "metadata": {},
   "source": [
    "The results from this notebook will be saved at `result_folder + project_name`."
   ]
  },
  {
   "cell_type": "code",
   "execution_count": 2,
   "metadata": {},
   "outputs": [],
   "source": [
    "result_folder = \"../results/\"\n",
    "project_name = \"4Newsgroups\"\n",
    "model_name = 'model2'"
   ]
  },
  {
   "cell_type": "markdown",
   "metadata": {},
   "source": [
    "## Download word embeddings"
   ]
  },
  {
   "cell_type": "markdown",
   "metadata": {},
   "source": [
    "In this experiment, we will use Glove (300 dimensions) as non-trainable embedding matrix. It can be downloaded from [here](https://nlp.stanford.edu/projects/glove/). After that, please set the path to the downloaded embedding (.txt format) in `analysis/settings.py`.\n",
    "\n",
    "The function `get_embedding_matrix` receives three input parameters:\n",
    "    - emb_path: a path of the embedding we want to use (set in `analysis/settings.py`)\n",
    "    - max_len : the maximum length of input text to be processed. A longer text will be trimmed off, while a shorter text will be padded to have the length equal to `max_len`.\n",
    "    - pad_initialisation : one of the two possible values [`uniform`, `zeros`] indicating how to initialise the vector of PAD token. (The default is `uniform`.)\n",
    "    \n",
    "It will return six outputs in the following order.\n",
    "    - emb_matrix: a numpy array of word vectors (shape: (vocab_size, emb_dim) such as (400000, 300)) \n",
    "    - vocab_size: the number of words in the vocabulary\n",
    "    - emb_dim: size of a word vector\n",
    "    - max_len: the maximum length of input text to be processed\n",
    "    - word_index: a list of all words in the vocabulary\n",
    "    - word2index: a dictionary mapping from a word to its corresponding index"
   ]
  },
  {
   "cell_type": "code",
   "execution_count": 3,
   "metadata": {},
   "outputs": [
    {
     "name": "stdout",
     "output_type": "stream",
     "text": [
      "Loading Embeddings Model\n",
      "Done. 400000  words loaded!\n"
     ]
    }
   ],
   "source": [
    "# Download embedding \n",
    "emb_matrix, vocab_size, emb_dim, max_len, word_index, word2index = get_embedding_matrix(EMBEDDINGS_PATH['glove-300'], max_len = 150)"
   ]
  },
  {
   "cell_type": "markdown",
   "metadata": {},
   "source": [
    "## Data preparation\n",
    "We will download the 20Newsgroup data using the function `load_20newsgroups` which takes three inputs:\n",
    "    - ratio: a list of three numbers [a, b, c] summing up to one where a, b, and c are the proportion of training, valiation, and test data, respectively.\n",
    "    - remove: a tuple of 20Newsgroup components which we want to remove from the input texts\n",
    "    - categories: a list of classes we want to download. In this experiment, we choose only 4 classes.\n",
    "    \n",
    "This function will output `target_names` which is a list of class labels together with input texts and the corresponding class labels of training, validation, and test datasets."
   ]
  },
  {
   "cell_type": "code",
   "execution_count": 4,
   "metadata": {},
   "outputs": [],
   "source": [
    "# Download 20Newsgroup data\n",
    "target_names, text_train, y_train, text_validate, y_validate, text_test, y_test = load_20newsgroups(ratio = [0.6, 0.2, 0.2], remove=('headers', 'footers'), categories = ['sci.crypt', 'sci.electronics', 'sci.med', 'sci.space'])"
   ]
  },
  {
   "cell_type": "markdown",
   "metadata": {},
   "source": [
    "Then we preprocess the datasets by converting each input text into a vector of word indices using the function `get_data_matrix`. In addition, we convert the class labels into the one-hot encoding format using the function `to_categorical` from scikit-learn "
   ]
  },
  {
   "cell_type": "code",
   "execution_count": 5,
   "metadata": {},
   "outputs": [
    {
     "name": "stdout",
     "output_type": "stream",
     "text": [
      "Start prepare training data at 2019-08-22 18:00:50.553996 (from last timestamp 0:01:13.309860 )\n"
     ]
    },
    {
     "data": {
      "application/vnd.jupyter.widget-view+json": {
       "model_id": "d0cf189c070f4d19a414977715f30d7b",
       "version_major": 2,
       "version_minor": 0
      },
      "text/plain": [
       "HBox(children=(IntProgress(value=0, max=2371), HTML(value='')))"
      ]
     },
     "metadata": {},
     "output_type": "display_data"
    },
    {
     "name": "stdout",
     "output_type": "stream",
     "text": [
      "\n",
      "Start prepare validation data at 2019-08-22 18:00:56.392229 (from last timestamp 0:00:05.838233 )\n"
     ]
    },
    {
     "data": {
      "application/vnd.jupyter.widget-view+json": {
       "model_id": "b07c4263f8a5439aaf69dd8f50a121a5",
       "version_major": 2,
       "version_minor": 0
      },
      "text/plain": [
       "HBox(children=(IntProgress(value=0, max=790), HTML(value='')))"
      ]
     },
     "metadata": {},
     "output_type": "display_data"
    },
    {
     "name": "stdout",
     "output_type": "stream",
     "text": [
      "\n",
      "Start prepare testing data at 2019-08-22 18:00:58.106238 (from last timestamp 0:00:01.714009 )\n"
     ]
    },
    {
     "data": {
      "application/vnd.jupyter.widget-view+json": {
       "model_id": "2ff2fd9ccc2c488c957ff5c08e41b377",
       "version_major": 2,
       "version_minor": 0
      },
      "text/plain": [
       "HBox(children=(IntProgress(value=0, max=791), HTML(value='')))"
      ]
     },
     "metadata": {},
     "output_type": "display_data"
    },
    {
     "name": "stdout",
     "output_type": "stream",
     "text": [
      "\n",
      "Finish at 2019-08-22 18:00:59.856579 (from last timestamp 0:00:01.750341 )\n",
      "The dataset has 4 classes: ['sci.crypt', 'sci.electronics', 'sci.med', 'sci.space']\n",
      "Training data has 2371 examples: Counter({2: 616, 3: 610, 1: 586, 0: 559})\n",
      "Validation data has 790 examples: Counter({0: 214, 1: 202, 3: 198, 2: 176})\n",
      "Testing data has 791 examples: Counter({0: 218, 2: 198, 1: 196, 3: 179})\n"
     ]
    }
   ],
   "source": [
    "# Data preparation\n",
    "utils.__log__(\"Start prepare training data\")\n",
    "X_train, y_train = get_data_matrix(text_train, word2index, max_len), y_train\n",
    "utils.__log__(\"Start prepare validation data\")\n",
    "X_validate, y_validate = get_data_matrix(text_validate, word2index, max_len), y_validate\n",
    "utils.__log__(\"Start prepare testing data\")\n",
    "X_test, y_test = get_data_matrix(text_test, word2index, max_len), y_test\n",
    "utils.__log__(\"Finish\")\n",
    "y_train_onehot, y_validate_onehot, y_test_onehot = to_categorical(y_train), to_categorical(y_validate), to_categorical(y_test) \n",
    "understand_data(target_names, y_train, y_test, y_validate)"
   ]
  },
  {
   "cell_type": "markdown",
   "metadata": {},
   "source": [
    "## Model creation, training, and testing"
   ]
  },
  {
   "cell_type": "markdown",
   "metadata": {},
   "source": [
    "We create a model using the class CNNModel which receives several parameters. Some of them are from the `get_embedding_matrix` function. For the code below, \n",
    "    - We use three filter sizes [2, 3, 4] each of which has 50 filters. \n",
    "    - All of the filters use the `relu` activation function. \n",
    "    - For the classification part, we have one hidden layer with 150 nodes (relu activation) followed by the final output layer (softmax activation)\n",
    "    - The sixth parameter, False, means that we freeze the embedding weights. Changing it to True will allow the training process to adjust the weights of word embeddings. "
   ]
  },
  {
   "cell_type": "code",
   "execution_count": 6,
   "metadata": {
    "scrolled": true
   },
   "outputs": [
    {
     "name": "stderr",
     "output_type": "stream",
     "text": [
      "WARNING: Logging before flag parsing goes to stderr.\n",
      "W0822 18:01:44.522664 15756 deprecation_wrapper.py:119] From D:\\Imperial PhD\\PublishedRepos\\CNNAnalysis\\venv\\lib\\site-packages\\keras\\backend\\tensorflow_backend.py:74: The name tf.get_default_graph is deprecated. Please use tf.compat.v1.get_default_graph instead.\n",
      "\n",
      "W0822 18:01:45.185020 15756 deprecation_wrapper.py:119] From D:\\Imperial PhD\\PublishedRepos\\CNNAnalysis\\venv\\lib\\site-packages\\keras\\backend\\tensorflow_backend.py:517: The name tf.placeholder is deprecated. Please use tf.compat.v1.placeholder instead.\n",
      "\n",
      "W0822 18:01:45.332873 15756 deprecation_wrapper.py:119] From D:\\Imperial PhD\\PublishedRepos\\CNNAnalysis\\venv\\lib\\site-packages\\keras\\backend\\tensorflow_backend.py:4138: The name tf.random_uniform is deprecated. Please use tf.random.uniform instead.\n",
      "\n",
      "W0822 18:01:45.463566 15756 deprecation_wrapper.py:119] From D:\\Imperial PhD\\PublishedRepos\\CNNAnalysis\\venv\\lib\\site-packages\\keras\\backend\\tensorflow_backend.py:174: The name tf.get_default_session is deprecated. Please use tf.compat.v1.get_default_session instead.\n",
      "\n",
      "W0822 18:01:45.466553 15756 deprecation_wrapper.py:119] From D:\\Imperial PhD\\PublishedRepos\\CNNAnalysis\\venv\\lib\\site-packages\\keras\\backend\\tensorflow_backend.py:181: The name tf.ConfigProto is deprecated. Please use tf.compat.v1.ConfigProto instead.\n",
      "\n",
      "W0822 18:01:48.319925 15756 deprecation_wrapper.py:119] From D:\\Imperial PhD\\PublishedRepos\\CNNAnalysis\\venv\\lib\\site-packages\\keras\\optimizers.py:790: The name tf.train.Optimizer is deprecated. Please use tf.compat.v1.train.Optimizer instead.\n",
      "\n"
     ]
    },
    {
     "name": "stdout",
     "output_type": "stream",
     "text": [
      "__________________________________________________________________________________________________\n",
      "Layer (type)                    Output Shape         Param #     Connected to                     \n",
      "==================================================================================================\n",
      "input_1 (InputLayer)            (None, None)         0                                            \n",
      "__________________________________________________________________________________________________\n",
      "embedding_1 (Embedding)         (None, 150, 300)     120000600   input_1[0][0]                    \n",
      "__________________________________________________________________________________________________\n",
      "conv1d_1 (Conv1D)               (None, 149, 50)      30050       embedding_1[0][0]                \n",
      "__________________________________________________________________________________________________\n",
      "conv1d_2 (Conv1D)               (None, 148, 50)      45050       embedding_1[0][0]                \n",
      "__________________________________________________________________________________________________\n",
      "conv1d_3 (Conv1D)               (None, 147, 50)      60050       embedding_1[0][0]                \n",
      "__________________________________________________________________________________________________\n",
      "global_max_pooling1d_1 (GlobalM (None, 50)           0           conv1d_1[0][0]                   \n",
      "__________________________________________________________________________________________________\n",
      "global_max_pooling1d_2 (GlobalM (None, 50)           0           conv1d_2[0][0]                   \n",
      "__________________________________________________________________________________________________\n",
      "global_max_pooling1d_3 (GlobalM (None, 50)           0           conv1d_3[0][0]                   \n",
      "__________________________________________________________________________________________________\n",
      "concatenate_1 (Concatenate)     (None, 150)          0           global_max_pooling1d_1[0][0]     \n",
      "                                                                 global_max_pooling1d_2[0][0]     \n",
      "                                                                 global_max_pooling1d_3[0][0]     \n",
      "__________________________________________________________________________________________________\n",
      "dense_1 (Dense)                 (None, 150)          22650       concatenate_1[0][0]              \n",
      "__________________________________________________________________________________________________\n",
      "dense_2 (Dense)                 (None, 4)            604         dense_1[0][0]                    \n",
      "==================================================================================================\n",
      "Total params: 120,159,004\n",
      "Trainable params: 158,404\n",
      "Non-trainable params: 120,000,600\n",
      "__________________________________________________________________________________________________\n"
     ]
    }
   ],
   "source": [
    "cnn_model = CNNModel(vocab_size, word_index, word2index, emb_dim, emb_matrix, False, max_len, target_names, \\\n",
    "                     filters = [(2, 50), (3, 50), (4, 50)], \\\n",
    "                     filter_activations = 'relu', \\\n",
    "                     dense = [150, len(target_names)], \\\n",
    "                     dense_activations = ['relu', 'softmax'])"
   ]
  },
  {
   "cell_type": "markdown",
   "metadata": {},
   "source": [
    "Then we train the model using the (preprocessed) training and validation data."
   ]
  },
  {
   "cell_type": "code",
   "execution_count": 7,
   "metadata": {
    "scrolled": true
   },
   "outputs": [
    {
     "name": "stdout",
     "output_type": "stream",
     "text": [
      "Model training ... at 2019-08-22 18:01:54.567641 (from last timestamp 0:00:54.711062 )\n"
     ]
    },
    {
     "name": "stderr",
     "output_type": "stream",
     "text": [
      "W0822 18:01:54.831514 15756 deprecation.py:323] From D:\\Imperial PhD\\PublishedRepos\\CNNAnalysis\\venv\\lib\\site-packages\\tensorflow\\python\\ops\\math_grad.py:1250: add_dispatch_support.<locals>.wrapper (from tensorflow.python.ops.array_ops) is deprecated and will be removed in a future version.\n",
      "Instructions for updating:\n",
      "Use tf.where in 2.0, which has the same broadcast rule as np.where\n"
     ]
    },
    {
     "data": {
      "application/vnd.jupyter.widget-view+json": {
       "model_id": "d80878bb3eae4220a9ddcd80e870376a",
       "version_major": 2,
       "version_minor": 0
      },
      "text/plain": [
       "HBox(children=(IntProgress(value=0, description='Training', style=ProgressStyle(description_width='initial')),…"
      ]
     },
     "metadata": {},
     "output_type": "display_data"
    },
    {
     "data": {
      "application/vnd.jupyter.widget-view+json": {
       "model_id": "",
       "version_major": 2,
       "version_minor": 0
      },
      "text/plain": [
       "HBox(children=(IntProgress(value=0, description='Epoch 0', max=2371, style=ProgressStyle(description_width='in…"
      ]
     },
     "metadata": {},
     "output_type": "display_data"
    },
    {
     "name": "stdout",
     "output_type": "stream",
     "text": [
      "\n",
      "Epoch 00001: val_loss improved from inf to 0.75839, saving model to ../results/4Newsgroups/model2.h5\n"
     ]
    },
    {
     "data": {
      "application/vnd.jupyter.widget-view+json": {
       "model_id": "",
       "version_major": 2,
       "version_minor": 0
      },
      "text/plain": [
       "HBox(children=(IntProgress(value=0, description='Epoch 1', max=2371, style=ProgressStyle(description_width='in…"
      ]
     },
     "metadata": {},
     "output_type": "display_data"
    },
    {
     "name": "stdout",
     "output_type": "stream",
     "text": [
      "\n",
      "Epoch 00002: val_loss improved from 0.75839 to 0.40800, saving model to ../results/4Newsgroups/model2.h5\n"
     ]
    },
    {
     "data": {
      "application/vnd.jupyter.widget-view+json": {
       "model_id": "",
       "version_major": 2,
       "version_minor": 0
      },
      "text/plain": [
       "HBox(children=(IntProgress(value=0, description='Epoch 2', max=2371, style=ProgressStyle(description_width='in…"
      ]
     },
     "metadata": {},
     "output_type": "display_data"
    },
    {
     "name": "stdout",
     "output_type": "stream",
     "text": [
      "\n",
      "Epoch 00003: val_loss improved from 0.40800 to 0.34723, saving model to ../results/4Newsgroups/model2.h5\n"
     ]
    },
    {
     "data": {
      "application/vnd.jupyter.widget-view+json": {
       "model_id": "",
       "version_major": 2,
       "version_minor": 0
      },
      "text/plain": [
       "HBox(children=(IntProgress(value=0, description='Epoch 3', max=2371, style=ProgressStyle(description_width='in…"
      ]
     },
     "metadata": {},
     "output_type": "display_data"
    },
    {
     "name": "stdout",
     "output_type": "stream",
     "text": [
      "\n",
      "Epoch 00004: val_loss improved from 0.34723 to 0.27213, saving model to ../results/4Newsgroups/model2.h5\n"
     ]
    },
    {
     "data": {
      "application/vnd.jupyter.widget-view+json": {
       "model_id": "",
       "version_major": 2,
       "version_minor": 0
      },
      "text/plain": [
       "HBox(children=(IntProgress(value=0, description='Epoch 4', max=2371, style=ProgressStyle(description_width='in…"
      ]
     },
     "metadata": {},
     "output_type": "display_data"
    },
    {
     "name": "stdout",
     "output_type": "stream",
     "text": [
      "\n",
      "Epoch 00005: val_loss improved from 0.27213 to 0.26422, saving model to ../results/4Newsgroups/model2.h5\n"
     ]
    },
    {
     "data": {
      "application/vnd.jupyter.widget-view+json": {
       "model_id": "",
       "version_major": 2,
       "version_minor": 0
      },
      "text/plain": [
       "HBox(children=(IntProgress(value=0, description='Epoch 5', max=2371, style=ProgressStyle(description_width='in…"
      ]
     },
     "metadata": {},
     "output_type": "display_data"
    },
    {
     "name": "stdout",
     "output_type": "stream",
     "text": [
      "\n",
      "Epoch 00006: val_loss improved from 0.26422 to 0.24120, saving model to ../results/4Newsgroups/model2.h5\n"
     ]
    },
    {
     "data": {
      "application/vnd.jupyter.widget-view+json": {
       "model_id": "",
       "version_major": 2,
       "version_minor": 0
      },
      "text/plain": [
       "HBox(children=(IntProgress(value=0, description='Epoch 6', max=2371, style=ProgressStyle(description_width='in…"
      ]
     },
     "metadata": {},
     "output_type": "display_data"
    },
    {
     "name": "stdout",
     "output_type": "stream",
     "text": [
      "\n",
      "Epoch 00007: val_loss improved from 0.24120 to 0.23920, saving model to ../results/4Newsgroups/model2.h5\n"
     ]
    },
    {
     "data": {
      "application/vnd.jupyter.widget-view+json": {
       "model_id": "",
       "version_major": 2,
       "version_minor": 0
      },
      "text/plain": [
       "HBox(children=(IntProgress(value=0, description='Epoch 7', max=2371, style=ProgressStyle(description_width='in…"
      ]
     },
     "metadata": {},
     "output_type": "display_data"
    },
    {
     "name": "stdout",
     "output_type": "stream",
     "text": [
      "\n",
      "Epoch 00008: val_loss improved from 0.23920 to 0.23256, saving model to ../results/4Newsgroups/model2.h5\n"
     ]
    },
    {
     "data": {
      "application/vnd.jupyter.widget-view+json": {
       "model_id": "",
       "version_major": 2,
       "version_minor": 0
      },
      "text/plain": [
       "HBox(children=(IntProgress(value=0, description='Epoch 8', max=2371, style=ProgressStyle(description_width='in…"
      ]
     },
     "metadata": {},
     "output_type": "display_data"
    },
    {
     "name": "stdout",
     "output_type": "stream",
     "text": [
      "\n",
      "Epoch 00009: val_loss did not improve from 0.23256\n"
     ]
    },
    {
     "data": {
      "application/vnd.jupyter.widget-view+json": {
       "model_id": "",
       "version_major": 2,
       "version_minor": 0
      },
      "text/plain": [
       "HBox(children=(IntProgress(value=0, description='Epoch 9', max=2371, style=ProgressStyle(description_width='in…"
      ]
     },
     "metadata": {},
     "output_type": "display_data"
    },
    {
     "name": "stdout",
     "output_type": "stream",
     "text": [
      "\n",
      "Epoch 00010: val_loss improved from 0.23256 to 0.23191, saving model to ../results/4Newsgroups/model2.h5\n"
     ]
    },
    {
     "data": {
      "application/vnd.jupyter.widget-view+json": {
       "model_id": "",
       "version_major": 2,
       "version_minor": 0
      },
      "text/plain": [
       "HBox(children=(IntProgress(value=0, description='Epoch 10', max=2371, style=ProgressStyle(description_width='i…"
      ]
     },
     "metadata": {},
     "output_type": "display_data"
    },
    {
     "name": "stdout",
     "output_type": "stream",
     "text": [
      "\n",
      "Epoch 00011: val_loss did not improve from 0.23191\n"
     ]
    },
    {
     "data": {
      "application/vnd.jupyter.widget-view+json": {
       "model_id": "",
       "version_major": 2,
       "version_minor": 0
      },
      "text/plain": [
       "HBox(children=(IntProgress(value=0, description='Epoch 11', max=2371, style=ProgressStyle(description_width='i…"
      ]
     },
     "metadata": {},
     "output_type": "display_data"
    },
    {
     "name": "stdout",
     "output_type": "stream",
     "text": [
      "\n",
      "Epoch 00012: val_loss did not improve from 0.23191\n"
     ]
    },
    {
     "data": {
      "application/vnd.jupyter.widget-view+json": {
       "model_id": "",
       "version_major": 2,
       "version_minor": 0
      },
      "text/plain": [
       "HBox(children=(IntProgress(value=0, description='Epoch 12', max=2371, style=ProgressStyle(description_width='i…"
      ]
     },
     "metadata": {},
     "output_type": "display_data"
    },
    {
     "name": "stdout",
     "output_type": "stream",
     "text": [
      "\n",
      "Epoch 00013: val_loss did not improve from 0.23191\n",
      "\n",
      "Preparing for further analysis ... at 2019-08-22 18:04:02.525872 (from last timestamp 0:02:07.958231 )\n",
      "Feature extraction model:\n",
      "__________________________________________________________________________________________________\n",
      "Layer (type)                    Output Shape         Param #     Connected to                     \n",
      "==================================================================================================\n",
      "text_indexes (InputLayer)       (None, None)         0                                            \n",
      "__________________________________________________________________________________________________\n",
      "embedding_2 (Embedding)         (None, 150, 300)     120000600   text_indexes[0][0]               \n",
      "__________________________________________________________________________________________________\n",
      "conv1d_4 (Conv1D)               (None, 149, 50)      30050       embedding_2[0][0]                \n",
      "__________________________________________________________________________________________________\n",
      "conv1d_5 (Conv1D)               (None, 148, 50)      45050       embedding_2[0][0]                \n",
      "__________________________________________________________________________________________________\n",
      "conv1d_6 (Conv1D)               (None, 147, 50)      60050       embedding_2[0][0]                \n",
      "__________________________________________________________________________________________________\n",
      "global_max_pooling1d_4 (GlobalM (None, 50)           0           conv1d_4[0][0]                   \n",
      "__________________________________________________________________________________________________\n",
      "global_max_pooling1d_5 (GlobalM (None, 50)           0           conv1d_5[0][0]                   \n",
      "__________________________________________________________________________________________________\n",
      "global_max_pooling1d_6 (GlobalM (None, 50)           0           conv1d_6[0][0]                   \n",
      "__________________________________________________________________________________________________\n",
      "concatenate_2 (Concatenate)     (None, 150)          0           global_max_pooling1d_4[0][0]     \n",
      "                                                                 global_max_pooling1d_5[0][0]     \n",
      "                                                                 global_max_pooling1d_6[0][0]     \n",
      "==================================================================================================\n",
      "Total params: 120,135,750\n",
      "Trainable params: 135,150\n",
      "Non-trainable params: 120,000,600\n",
      "__________________________________________________________________________________________________\n",
      "Classification model:\n",
      "_________________________________________________________________\n",
      "Layer (type)                 Output Shape              Param #   \n",
      "=================================================================\n",
      "dense_3 (Dense)              (None, 150)               22650     \n",
      "_________________________________________________________________\n",
      "dense_4 (Dense)              (None, 4)                 604       \n",
      "=================================================================\n",
      "Total params: 23,254\n",
      "Trainable params: 23,254\n",
      "Non-trainable params: 0\n",
      "_________________________________________________________________\n"
     ]
    },
    {
     "name": "stderr",
     "output_type": "stream",
     "text": [
      "D:\\Imperial PhD\\PublishedRepos\\CNNAnalysis\\venv\\lib\\site-packages\\keras\\engine\\saving.py:292: UserWarning: No training configuration found in save file: the model was *not* compiled. Compile it manually.\n",
      "  warnings.warn('No training configuration found in save file: '\n"
     ]
    },
    {
     "name": "stdout",
     "output_type": "stream",
     "text": [
      "Partial model starting from embedded text matrix:\n",
      "__________________________________________________________________________________________________\n",
      "Layer (type)                    Output Shape         Param #     Connected to                     \n",
      "==================================================================================================\n",
      "embedded_text_input_383 (InputL (None, 150, 300)     0                                            \n",
      "__________________________________________________________________________________________________\n",
      "conv1d_7 (Conv1D)               (None, 149, 50)      30050       embedded_text_input_383[0][0]    \n",
      "__________________________________________________________________________________________________\n",
      "conv1d_8 (Conv1D)               (None, 148, 50)      45050       embedded_text_input_383[0][0]    \n",
      "__________________________________________________________________________________________________\n",
      "conv1d_9 (Conv1D)               (None, 147, 50)      60050       embedded_text_input_383[0][0]    \n",
      "__________________________________________________________________________________________________\n",
      "global_max_pooling1d_7 (GlobalM (None, 50)           0           conv1d_7[0][0]                   \n",
      "__________________________________________________________________________________________________\n",
      "global_max_pooling1d_8 (GlobalM (None, 50)           0           conv1d_8[0][0]                   \n",
      "__________________________________________________________________________________________________\n",
      "global_max_pooling1d_9 (GlobalM (None, 50)           0           conv1d_9[0][0]                   \n",
      "__________________________________________________________________________________________________\n",
      "concatenate_3 (Concatenate)     (None, 150)          0           global_max_pooling1d_7[0][0]     \n",
      "                                                                 global_max_pooling1d_8[0][0]     \n",
      "                                                                 global_max_pooling1d_9[0][0]     \n",
      "__________________________________________________________________________________________________\n",
      "dense_5 (Dense)                 (None, 150)          22650       concatenate_3[0][0]              \n",
      "__________________________________________________________________________________________________\n",
      "dense_6 (Dense)                 (None, 4)            604         dense_5[0][0]                    \n",
      "==================================================================================================\n",
      "Total params: 158,404\n",
      "Trainable params: 158,404\n",
      "Non-trainable params: 0\n",
      "__________________________________________________________________________________________________\n",
      "Calculate Logits at 2019-08-22 18:04:10.050053 (from last timestamp 0:00:07.524181 )\n",
      "Find Correlation at 2019-08-22 18:04:10.216606 (from last timestamp 0:00:00.166553 )\n"
     ]
    },
    {
     "data": {
      "application/vnd.jupyter.widget-view+json": {
       "model_id": "75f522e29580420b94e722999dfdbe36",
       "version_major": 2,
       "version_minor": 0
      },
      "text/plain": [
       "HBox(children=(IntProgress(value=0, max=150), HTML(value='')))"
      ]
     },
     "metadata": {},
     "output_type": "display_data"
    },
    {
     "name": "stdout",
     "output_type": "stream",
     "text": [
      "\n",
      "Done at 2019-08-22 18:04:10.412133 (from last timestamp 0:00:00.195527 )\n"
     ]
    },
    {
     "data": {
      "application/vnd.jupyter.widget-view+json": {
       "model_id": "36e2b3915aae4dee94318d5e5a3ccc0c",
       "version_major": 2,
       "version_minor": 0
      },
      "text/plain": [
       "HBox(children=(IntProgress(value=0, max=150), HTML(value='')))"
      ]
     },
     "metadata": {},
     "output_type": "display_data"
    },
    {
     "name": "stdout",
     "output_type": "stream",
     "text": [
      "\n",
      "Creating decision trees ...\n"
     ]
    },
    {
     "data": {
      "application/vnd.jupyter.widget-view+json": {
       "model_id": "d832643984244d4294c8850a2b07695e",
       "version_major": 2,
       "version_minor": 0
      },
      "text/plain": [
       "HBox(children=(IntProgress(value=0, max=4), HTML(value='')))"
      ]
     },
     "metadata": {},
     "output_type": "display_data"
    },
    {
     "name": "stdout",
     "output_type": "stream",
     "text": [
      "\n",
      "Pruning decision trees ...\n"
     ]
    },
    {
     "data": {
      "application/vnd.jupyter.widget-view+json": {
       "model_id": "8267cd947ff14617926599fe979be55e",
       "version_major": 2,
       "version_minor": 0
      },
      "text/plain": [
       "HBox(children=(IntProgress(value=0, max=4), HTML(value='')))"
      ]
     },
     "metadata": {},
     "output_type": "display_data"
    },
    {
     "name": "stdout",
     "output_type": "stream",
     "text": [
      "\n",
      "Done at 2019-08-22 18:04:12.404775 (from last timestamp 0:00:01.992642 )\n"
     ]
    },
    {
     "data": {
      "text/plain": [
       "<keras.callbacks.History at 0x1d6b2eb9390>"
      ]
     },
     "execution_count": 7,
     "metadata": {},
     "output_type": "execute_result"
    }
   ],
   "source": [
    "project_path = result_folder + project_name\n",
    "cnn_model.train(project_path, model_name, X_train, y_train_onehot, X_validate, y_validate_onehot)"
   ]
  },
  {
   "cell_type": "markdown",
   "metadata": {},
   "source": [
    "Finally, we test the trained model using the test dataset and report the classification performance."
   ]
  },
  {
   "cell_type": "code",
   "execution_count": 11,
   "metadata": {},
   "outputs": [
    {
     "name": "stdout",
     "output_type": "stream",
     "text": [
      "                 precision    recall  f1-score   support\n",
      "\n",
      "      sci.crypt       0.97      0.89      0.93       218\n",
      "sci.electronics       0.87      0.92      0.89       196\n",
      "        sci.med       0.94      0.95      0.94       198\n",
      "      sci.space       0.93      0.94      0.94       179\n",
      "\n",
      "       accuracy                           0.93       791\n",
      "      macro avg       0.93      0.93      0.93       791\n",
      "   weighted avg       0.93      0.93      0.93       791\n",
      "\n"
     ]
    }
   ],
   "source": [
    "prediction_test = cnn_model.predict(X_test, batch_size = 128)\n",
    "print(classification_report(y_test, prediction_test, target_names=target_names))"
   ]
  },
  {
   "cell_type": "markdown",
   "metadata": {},
   "source": [
    "## Explanation examples"
   ]
  },
  {
   "cell_type": "markdown",
   "metadata": {},
   "source": [
    "First, we select one input text from the test dataset to be an example."
   ]
  },
  {
   "cell_type": "code",
   "execution_count": 38,
   "metadata": {
    "scrolled": true
   },
   "outputs": [
    {
     "name": "stdout",
     "output_type": "stream",
     "text": [
      "Input test: In article <1993Apr15.160415.8559@magnus.acs.ohio-state.edu> ashall@magnus.acs.ohio-state.edu (Andrew S Hall) writes:\n",
      ">I am postive someone will correct me if I am wrong, but doesn't the Fifth\n",
      ">also cover not being forced to do actions that are self-incriminating?\n",
      ">e.g. The police couldn't demand that you silently take them to where the\n",
      ">body is buried or where the money is hidden.\n",
      "\n",
      "But they can make you piss in a jar, and possibly provide DNA, semen,\n",
      "and hair samples or to undergo tests for gunpowder residues on your hand.\n",
      "\n",
      "(BTW, that was why the chemical engineer arrested in the WTC explosion\n",
      "thrust his hands into a toilet filled with urine as the cops were breaking\n",
      "down the door -- the nitrogen in the urine would mask any residue from\n",
      "explosives.  I found it interesting the news reported his acts, but not\n",
      "his reasons).\n",
      "\n",
      "Somewhere, perhaps a privacy group, they discussed the legal ramifications\n",
      "of using a password like\n",
      "\n",
      "  I shot Jimmy Hoffa and his body is in a storage locker in Camden\n",
      "\n",
      "a while back.  The impression I got was that real judges would dismiss\n",
      "arguments that this password is self-incrimination as first-year law\n",
      "school sophistry -- the fact that you use a statement for a password has\n",
      "no bearing on the veracity of that phrase.\n",
      "\n",
      "You are not being asked to incrimidate yourself (e.g., \"where did you\n",
      "bury the body?\"); you are being asked to provide information necessary\n",
      "to execute a legal search warrant.  Refusing to provide the password is\n",
      "akin to refusing to provide a key to a storage locker... except that they\n",
      "could always _force_ their way into the locker.\n",
      "\n",
      "Of course, that doesn't mean you have to help them _understand_ what\n",
      "they find, or point out things they overlooked in their search!\n",
      "\n"
     ]
    }
   ],
   "source": [
    "index = 80\n",
    "input_text, actual_class = text_test[index], y_test[index]\n",
    "print(f\"Input test: {input_text}\")"
   ]
  },
  {
   "cell_type": "markdown",
   "metadata": {},
   "source": [
    "Second, we convert the input text into an array of word indices and then predict using the trained CNN."
   ]
  },
  {
   "cell_type": "code",
   "execution_count": 39,
   "metadata": {},
   "outputs": [
    {
     "name": "stdout",
     "output_type": "stream",
     "text": [
      "The predicted class is sci.med (class_id = 2)\n",
      "The actual class is sci.crypt (class_id = 0)\n"
     ]
    }
   ],
   "source": [
    "X_input = utils.get_data_matrix([input_text], word2index, cnn_model.max_len, use_tqdm = False)\n",
    "predicted_class = cnn_model.predict(X_input)\n",
    "print(f\"The predicted class is {target_names[predicted_class]} (class_id = {predicted_class})\")\n",
    "print(f\"The actual class is {target_names[actual_class]} (class_id = {actual_class})\")"
   ]
  },
  {
   "cell_type": "markdown",
   "metadata": {},
   "source": [
    "Then, we explain the prediction using some local explanation techniques. \n",
    "    - To use Grad-CAM-Text, call `explain_prediction_heatmap`. Changing `is_support` to False will report counter-evidence against instead of evidence for the predicted class.  "
   ]
  },
  {
   "cell_type": "code",
   "execution_count": 40,
   "metadata": {},
   "outputs": [
    {
     "name": "stdout",
     "output_type": "stream",
     "text": [
      "Input text: In article <1993Apr15.160415.8559@magnus.acs.ohio-state.edu> ashall@magnus.acs.ohio-state.edu (Andrew S Hall) writes:\n",
      ">I am postive someone will correct me if I am wrong, but doesn't the Fifth\n",
      ">also cover not being forced to do actions that are self-incriminating?\n",
      ">e.g. The police couldn't demand that you silently take them to where the\n",
      ">body is buried or where the money is hidden.\n",
      "\n",
      "But they can make you piss in a jar, and possibly provide DNA, semen,\n",
      "and hair samples or to undergo tests for gunpowder residues on your hand.\n",
      "\n",
      "(BTW, that was why the chemical engineer arrested in the WTC explosion\n",
      "thrust his hands into a toilet filled with urine as the cops were breaking\n",
      "down the door -- the nitrogen in the urine would mask any residue from\n",
      "explosives.  I found it interesting the news reported his acts, but not\n",
      "his reasons).\n",
      "\n",
      "Somewhere, perhaps a privacy group, they discussed the legal ramifications\n",
      "of using a password like\n",
      "\n",
      "  I shot Jimmy Hoffa and his body is in a storage locker in Camden\n",
      "\n",
      "a while back.  The impression I got was that real judges would dismiss\n",
      "arguments that this password is self-incrimination as first-year law\n",
      "school sophistry -- the fact that you use a statement for a password has\n",
      "no bearing on the veracity of that phrase.\n",
      "\n",
      "You are not being asked to incrimidate yourself (e.g., \"where did you\n",
      "bury the body?\"); you are being asked to provide information necessary\n",
      "to execute a legal search warrant.  Refusing to provide the password is\n",
      "akin to refusing to provide a key to a storage locker... except that they\n",
      "could always _force_ their way into the locker.\n",
      "\n",
      "Of course, that doesn't mean you have to help them _understand_ what\n",
      "they find, or point out things they overlooked in their search!\n",
      "\n",
      "----------------------------------------------------------------\n",
      "Processed text: in article < UNK > UNK ( andrew s hall ) writes : > i am postive someone will correct me if i am wrong , but does n't the fifth > also cover not being forced to do actions that are self - incriminating ? > e.g. the police could n't demand that you silently take them to where the > body is buried or where the money is hidden . but they can make you piss in a jar , and possibly provide dna , semen , and hair samples or to undergo tests for gunpowder residues on your hand . ( btw , that was why the chemical engineer arrested in the wtc explosion thrust his hands into a toilet filled with urine as the cops were breaking down the door -- the nitrogen in the urine would mask any residue from explosives . i found it\n",
      "----------------------------------------------------------------\n",
      "Actual class: sci.crypt (class id: 0)\n",
      "Predicted class: sci.med (class id: 2)\n",
      "----------------------------------------------------------------\n"
     ]
    },
    {
     "data": {
      "text/html": [
       "<div style=\"width:600px\"><span class=\"barcode\"; style=\"color: black; background-color: rgba(255, 0, 0, 0.0); display:inline-block;\">&nbspin&nbsp</span><span class=\"barcode\"; style=\"color: black; background-color: rgba(255, 0, 0, 0.025419837424816565); display:inline-block;\">&nbsparticle&nbsp</span><span class=\"barcode\"; style=\"color: black; background-color: rgba(255, 0, 0, 0.025419837424816565); display:inline-block;\">&nbsp<&nbsp</span><span class=\"barcode\"; style=\"color: black; background-color: rgba(255, 0, 0, 0.0); display:inline-block;\">&nbspUNK&nbsp</span><span class=\"barcode\"; style=\"color: black; background-color: rgba(255, 0, 0, 0.0); display:inline-block;\">&nbsp>&nbsp</span><span class=\"barcode\"; style=\"color: black; background-color: rgba(255, 0, 0, 0.0); display:inline-block;\">&nbspUNK&nbsp</span><span class=\"barcode\"; style=\"color: black; background-color: rgba(255, 0, 0, 0.05852788949705733); display:inline-block;\">&nbsp(&nbsp</span><span class=\"barcode\"; style=\"color: black; background-color: rgba(255, 0, 0, 0.05852788949705733); display:inline-block;\">&nbspandrew&nbsp</span><span class=\"barcode\"; style=\"color: black; background-color: rgba(255, 0, 0, 0.04068032942794534); display:inline-block;\">&nbsps&nbsp</span><span class=\"barcode\"; style=\"color: black; background-color: rgba(255, 0, 0, 0.025302479423105605); display:inline-block;\">&nbsphall&nbsp</span><span class=\"barcode\"; style=\"color: black; background-color: rgba(255, 0, 0, 0.041719269586774695); display:inline-block;\">&nbsp)&nbsp</span><span class=\"barcode\"; style=\"color: black; background-color: rgba(255, 0, 0, 0.041719269586774695); display:inline-block;\">&nbspwrites&nbsp</span><span class=\"barcode\"; style=\"color: black; background-color: rgba(255, 0, 0, 0.0); display:inline-block;\">&nbsp:&nbsp</span><span class=\"barcode\"; style=\"color: black; background-color: rgba(255, 0, 0, 0.03421732427229137); display:inline-block;\">&nbsp>&nbsp</span><span class=\"barcode\"; style=\"color: black; background-color: rgba(255, 0, 0, 0.03421732427229137); display:inline-block;\">&nbspi&nbsp</span><span class=\"barcode\"; style=\"color: black; background-color: rgba(255, 0, 0, 0.05712363606312736); display:inline-block;\">&nbspam&nbsp</span><span class=\"barcode\"; style=\"color: black; background-color: rgba(255, 0, 0, 0.02290631179083599); display:inline-block;\">&nbsppostive&nbsp</span><span class=\"barcode\"; style=\"color: black; background-color: rgba(255, 0, 0, 0.0); display:inline-block;\">&nbspsomeone&nbsp</span><span class=\"barcode\"; style=\"color: black; background-color: rgba(255, 0, 0, 0.0); display:inline-block;\">&nbspwill&nbsp</span><span class=\"barcode\"; style=\"color: black; background-color: rgba(255, 0, 0, 0.0); display:inline-block;\">&nbspcorrect&nbsp</span><span class=\"barcode\"; style=\"color: black; background-color: rgba(255, 0, 0, 0.0); display:inline-block;\">&nbspme&nbsp</span><span class=\"barcode\"; style=\"color: black; background-color: rgba(255, 0, 0, 0.0); display:inline-block;\">&nbspif&nbsp</span><span class=\"barcode\"; style=\"color: black; background-color: rgba(255, 0, 0, 0.0); display:inline-block;\">&nbspi&nbsp</span><span class=\"barcode\"; style=\"color: black; background-color: rgba(255, 0, 0, 0.0); display:inline-block;\">&nbspam&nbsp</span><span class=\"barcode\"; style=\"color: black; background-color: rgba(255, 0, 0, 0.0); display:inline-block;\">&nbspwrong&nbsp</span><span class=\"barcode\"; style=\"color: black; background-color: rgba(255, 0, 0, 0.0); display:inline-block;\">&nbsp,&nbsp</span><span class=\"barcode\"; style=\"color: black; background-color: rgba(255, 0, 0, 0.0); display:inline-block;\">&nbspbut&nbsp</span><span class=\"barcode\"; style=\"color: black; background-color: rgba(255, 0, 0, 0.0); display:inline-block;\">&nbspdoes&nbsp</span><span class=\"barcode\"; style=\"color: black; background-color: rgba(255, 0, 0, 0.0); display:inline-block;\">&nbspn't&nbsp</span><span class=\"barcode\"; style=\"color: black; background-color: rgba(255, 0, 0, 0.0); display:inline-block;\">&nbspthe&nbsp</span><span class=\"barcode\"; style=\"color: black; background-color: rgba(255, 0, 0, 0.0); display:inline-block;\">&nbspfifth&nbsp</span><span class=\"barcode\"; style=\"color: black; background-color: rgba(255, 0, 0, 0.0); display:inline-block;\">&nbsp>&nbsp</span><span class=\"barcode\"; style=\"color: black; background-color: rgba(255, 0, 0, 0.0); display:inline-block;\">&nbspalso&nbsp</span><span class=\"barcode\"; style=\"color: black; background-color: rgba(255, 0, 0, 0.0); display:inline-block;\">&nbspcover&nbsp</span><span class=\"barcode\"; style=\"color: black; background-color: rgba(255, 0, 0, 0.0); display:inline-block;\">&nbspnot&nbsp</span><span class=\"barcode\"; style=\"color: black; background-color: rgba(255, 0, 0, 0.014319244047271185); display:inline-block;\">&nbspbeing&nbsp</span><span class=\"barcode\"; style=\"color: black; background-color: rgba(255, 0, 0, 0.01981899461022371); display:inline-block;\">&nbspforced&nbsp</span><span class=\"barcode\"; style=\"color: black; background-color: rgba(255, 0, 0, 0.005499750562952527); display:inline-block;\">&nbspto&nbsp</span><span class=\"barcode\"; style=\"color: black; background-color: rgba(255, 0, 0, 0.005499750562952527); display:inline-block;\">&nbspdo&nbsp</span><span class=\"barcode\"; style=\"color: black; background-color: rgba(255, 0, 0, 0.005499750562952527); display:inline-block;\">&nbspactions&nbsp</span><span class=\"barcode\"; style=\"color: black; background-color: rgba(255, 0, 0, 0.0); display:inline-block;\">&nbspthat&nbsp</span><span class=\"barcode\"; style=\"color: black; background-color: rgba(255, 0, 0, 0.0); display:inline-block;\">&nbspare&nbsp</span><span class=\"barcode\"; style=\"color: black; background-color: rgba(255, 0, 0, 0.011651138039695164); display:inline-block;\">&nbspself&nbsp</span><span class=\"barcode\"; style=\"color: black; background-color: rgba(255, 0, 0, 0.011651138039695164); display:inline-block;\">&nbsp-&nbsp</span><span class=\"barcode\"; style=\"color: black; background-color: rgba(255, 0, 0, 0.0); display:inline-block;\">&nbspincriminating&nbsp</span><span class=\"barcode\"; style=\"color: black; background-color: rgba(255, 0, 0, 0.0); display:inline-block;\">&nbsp?&nbsp</span><span class=\"barcode\"; style=\"color: black; background-color: rgba(255, 0, 0, 0.0); display:inline-block;\">&nbsp>&nbsp</span><span class=\"barcode\"; style=\"color: black; background-color: rgba(255, 0, 0, 0.0); display:inline-block;\">&nbspe.g.&nbsp</span><span class=\"barcode\"; style=\"color: black; background-color: rgba(255, 0, 0, 0.0); display:inline-block;\">&nbspthe&nbsp</span><span class=\"barcode\"; style=\"color: black; background-color: rgba(255, 0, 0, 0.0331481779339619); display:inline-block;\">&nbsppolice&nbsp</span><span class=\"barcode\"; style=\"color: black; background-color: rgba(255, 0, 0, 0.0331481779339619); display:inline-block;\">&nbspcould&nbsp</span><span class=\"barcode\"; style=\"color: black; background-color: rgba(255, 0, 0, 0.0); display:inline-block;\">&nbspn't&nbsp</span><span class=\"barcode\"; style=\"color: black; background-color: rgba(255, 0, 0, 0.0); display:inline-block;\">&nbspdemand&nbsp</span><span class=\"barcode\"; style=\"color: black; background-color: rgba(255, 0, 0, 0.0); display:inline-block;\">&nbspthat&nbsp</span><span class=\"barcode\"; style=\"color: black; background-color: rgba(255, 0, 0, 0.0); display:inline-block;\">&nbspyou&nbsp</span><span class=\"barcode\"; style=\"color: black; background-color: rgba(255, 0, 0, 0.0); display:inline-block;\">&nbspsilently&nbsp</span><span class=\"barcode\"; style=\"color: black; background-color: rgba(255, 0, 0, 0.0); display:inline-block;\">&nbsptake&nbsp</span><span class=\"barcode\"; style=\"color: black; background-color: rgba(255, 0, 0, 0.0); display:inline-block;\">&nbspthem&nbsp</span><span class=\"barcode\"; style=\"color: black; background-color: rgba(255, 0, 0, 0.0); display:inline-block;\">&nbspto&nbsp</span><span class=\"barcode\"; style=\"color: black; background-color: rgba(255, 0, 0, 0.0); display:inline-block;\">&nbspwhere&nbsp</span><span class=\"barcode\"; style=\"color: black; background-color: rgba(255, 0, 0, 0.007086462355732565); display:inline-block;\">&nbspthe&nbsp</span><span class=\"barcode\"; style=\"color: black; background-color: rgba(255, 0, 0, 0.007086462355732565); display:inline-block;\">&nbsp>&nbsp</span><span class=\"barcode\"; style=\"color: black; background-color: rgba(255, 0, 0, 0.007086462355732565); display:inline-block;\">&nbspbody&nbsp</span><span class=\"barcode\"; style=\"color: black; background-color: rgba(255, 0, 0, 0.007086462355732565); display:inline-block;\">&nbspis&nbsp</span><span class=\"barcode\"; style=\"color: black; background-color: rgba(255, 0, 0, 0.0); display:inline-block;\">&nbspburied&nbsp</span><span class=\"barcode\"; style=\"color: black; background-color: rgba(255, 0, 0, 0.0); display:inline-block;\">&nbspor&nbsp</span><span class=\"barcode\"; style=\"color: black; background-color: rgba(255, 0, 0, 0.0); display:inline-block;\">&nbspwhere&nbsp</span><span class=\"barcode\"; style=\"color: black; background-color: rgba(255, 0, 0, 0.0); display:inline-block;\">&nbspthe&nbsp</span><span class=\"barcode\"; style=\"color: black; background-color: rgba(255, 0, 0, 0.0); display:inline-block;\">&nbspmoney&nbsp</span><span class=\"barcode\"; style=\"color: black; background-color: rgba(255, 0, 0, 0.002392257518828674); display:inline-block;\">&nbspis&nbsp</span><span class=\"barcode\"; style=\"color: black; background-color: rgba(255, 0, 0, 0.002392257518828674); display:inline-block;\">&nbsphidden&nbsp</span><span class=\"barcode\"; style=\"color: black; background-color: rgba(255, 0, 0, 0.0); display:inline-block;\">&nbsp.&nbsp</span><span class=\"barcode\"; style=\"color: black; background-color: rgba(255, 0, 0, 0.0); display:inline-block;\">&nbspbut&nbsp</span><span class=\"barcode\"; style=\"color: black; background-color: rgba(255, 0, 0, 0.0); display:inline-block;\">&nbspthey&nbsp</span><span class=\"barcode\"; style=\"color: black; background-color: rgba(255, 0, 0, 0.0); display:inline-block;\">&nbspcan&nbsp</span><span class=\"barcode\"; style=\"color: black; background-color: rgba(255, 0, 0, 0.012787588789701258); display:inline-block;\">&nbspmake&nbsp</span><span class=\"barcode\"; style=\"color: black; background-color: rgba(255, 0, 0, 0.012787588789701258); display:inline-block;\">&nbspyou&nbsp</span><span class=\"barcode\"; style=\"color: black; background-color: rgba(255, 0, 0, 0.012787588789701258); display:inline-block;\">&nbsppiss&nbsp</span><span class=\"barcode\"; style=\"color: black; background-color: rgba(255, 0, 0, 0.0); display:inline-block;\">&nbspin&nbsp</span><span class=\"barcode\"; style=\"color: black; background-color: rgba(255, 0, 0, 0.0); display:inline-block;\">&nbspa&nbsp</span><span class=\"barcode\"; style=\"color: black; background-color: rgba(255, 0, 0, 0.0); display:inline-block;\">&nbspjar&nbsp</span><span class=\"barcode\"; style=\"color: black; background-color: rgba(255, 0, 0, 0.0); display:inline-block;\">&nbsp,&nbsp</span><span class=\"barcode\"; style=\"color: black; background-color: rgba(255, 0, 0, 0.0); display:inline-block;\">&nbspand&nbsp</span><span class=\"barcode\"; style=\"color: black; background-color: rgba(255, 0, 0, 0.032954713095725126); display:inline-block;\">&nbsppossibly&nbsp</span><span class=\"barcode\"; style=\"color: black; background-color: rgba(255, 0, 0, 0.032954713095725126); display:inline-block;\">&nbspprovide&nbsp</span><span class=\"barcode\"; style=\"color: black; background-color: rgba(255, 0, 0, 0.1902649096741223); display:inline-block;\">&nbspdna&nbsp</span><span class=\"barcode\"; style=\"color: black; background-color: rgba(255, 0, 0, 0.15731019657839718); display:inline-block;\">&nbsp,&nbsp</span><span class=\"barcode\"; style=\"color: black; background-color: rgba(255, 0, 0, 0.17271417799176675); display:inline-block;\">&nbspsemen&nbsp</span><span class=\"barcode\"; style=\"color: black; background-color: rgba(255, 0, 0, 0.02707944049085321); display:inline-block;\">&nbsp,&nbsp</span><span class=\"barcode\"; style=\"color: black; background-color: rgba(255, 0, 0, 0.0013830687916108382); display:inline-block;\">&nbspand&nbsp</span><span class=\"barcode\"; style=\"color: black; background-color: rgba(255, 0, 0, 0.0013830687916108382); display:inline-block;\">&nbsphair&nbsp</span><span class=\"barcode\"; style=\"color: black; background-color: rgba(255, 0, 0, 0.0013830687916108382); display:inline-block;\">&nbspsamples&nbsp</span><span class=\"barcode\"; style=\"color: black; background-color: rgba(255, 0, 0, 0.25823286418208724); display:inline-block;\">&nbspor&nbsp</span><span class=\"barcode\"; style=\"color: black; background-color: rgba(255, 0, 0, 0.5882185370488465); display:inline-block;\">&nbspto&nbsp</span><span class=\"barcode\"; style=\"color: black; background-color: rgba(255, 0, 0, 0.9250761068437098); display:inline-block;\">&nbspundergo&nbsp</span><span class=\"barcode\"; style=\"color: black; background-color: rgba(255, 0, 0, 1.0); display:inline-block;\">&nbsptests&nbsp</span><span class=\"barcode\"; style=\"color: black; background-color: rgba(255, 0, 0, 0.5483576075682488); display:inline-block;\">&nbspfor&nbsp</span><span class=\"barcode\"; style=\"color: black; background-color: rgba(255, 0, 0, 0.2684324144896158); display:inline-block;\">&nbspgunpowder&nbsp</span><span class=\"barcode\"; style=\"color: black; background-color: rgba(255, 0, 0, 0.1475561925909832); display:inline-block;\">&nbspresidues&nbsp</span><span class=\"barcode\"; style=\"color: black; background-color: rgba(255, 0, 0, 0.07832961546929178); display:inline-block;\">&nbspon&nbsp</span><span class=\"barcode\"; style=\"color: black; background-color: rgba(255, 0, 0, 0.03706630298383636); display:inline-block;\">&nbspyour&nbsp</span><span class=\"barcode\"; style=\"color: black; background-color: rgba(255, 0, 0, 0.03706630298383636); display:inline-block;\">&nbsphand&nbsp</span><span class=\"barcode\"; style=\"color: black; background-color: rgba(255, 0, 0, 0.0018551966703769373); display:inline-block;\">&nbsp.&nbsp</span><span class=\"barcode\"; style=\"color: black; background-color: rgba(255, 0, 0, 0.0); display:inline-block;\">&nbsp(&nbsp</span><span class=\"barcode\"; style=\"color: black; background-color: rgba(255, 0, 0, 0.0); display:inline-block;\">&nbspbtw&nbsp</span><span class=\"barcode\"; style=\"color: black; background-color: rgba(255, 0, 0, 0.0); display:inline-block;\">&nbsp,&nbsp</span><span class=\"barcode\"; style=\"color: black; background-color: rgba(255, 0, 0, 0.0); display:inline-block;\">&nbspthat&nbsp</span><span class=\"barcode\"; style=\"color: black; background-color: rgba(255, 0, 0, 0.015664859860248338); display:inline-block;\">&nbspwas&nbsp</span><span class=\"barcode\"; style=\"color: black; background-color: rgba(255, 0, 0, 0.015664859860248338); display:inline-block;\">&nbspwhy&nbsp</span><span class=\"barcode\"; style=\"color: black; background-color: rgba(255, 0, 0, 0.015664859860248338); display:inline-block;\">&nbspthe&nbsp</span><span class=\"barcode\"; style=\"color: black; background-color: rgba(255, 0, 0, 0.03847139780912042); display:inline-block;\">&nbspchemical&nbsp</span><span class=\"barcode\"; style=\"color: black; background-color: rgba(255, 0, 0, 0.022806537948872083); display:inline-block;\">&nbspengineer&nbsp</span><span class=\"barcode\"; style=\"color: black; background-color: rgba(255, 0, 0, 0.01332695513092412); display:inline-block;\">&nbsparrested&nbsp</span><span class=\"barcode\"; style=\"color: black; background-color: rgba(255, 0, 0, 0.01332695513092412); display:inline-block;\">&nbspin&nbsp</span><span class=\"barcode\"; style=\"color: black; background-color: rgba(255, 0, 0, 0.06952594347581102); display:inline-block;\">&nbspthe&nbsp</span><span class=\"barcode\"; style=\"color: black; background-color: rgba(255, 0, 0, 0.09422896431821827); display:inline-block;\">&nbspwtc&nbsp</span><span class=\"barcode\"; style=\"color: black; background-color: rgba(255, 0, 0, 0.14250456395972544); display:inline-block;\">&nbspexplosion&nbsp</span><span class=\"barcode\"; style=\"color: black; background-color: rgba(255, 0, 0, 0.0722465631661066); display:inline-block;\">&nbspthrust&nbsp</span><span class=\"barcode\"; style=\"color: black; background-color: rgba(255, 0, 0, 0.18778779864184303); display:inline-block;\">&nbsphis&nbsp</span><span class=\"barcode\"; style=\"color: black; background-color: rgba(255, 0, 0, 0.1707458923463033); display:inline-block;\">&nbsphands&nbsp</span><span class=\"barcode\"; style=\"color: black; background-color: rgba(255, 0, 0, 0.0); display:inline-block;\">&nbspinto&nbsp</span><span class=\"barcode\"; style=\"color: black; background-color: rgba(255, 0, 0, 0.0); display:inline-block;\">&nbspa&nbsp</span><span class=\"barcode\"; style=\"color: black; background-color: rgba(255, 0, 0, 0.1165854366294123); display:inline-block;\">&nbsptoilet&nbsp</span><span class=\"barcode\"; style=\"color: black; background-color: rgba(255, 0, 0, 0.18139051597867023); display:inline-block;\">&nbspfilled&nbsp</span><span class=\"barcode\"; style=\"color: black; background-color: rgba(255, 0, 0, 0.18139051597867023); display:inline-block;\">&nbspwith&nbsp</span><span class=\"barcode\"; style=\"color: black; background-color: rgba(255, 0, 0, 0.33006566941413523); display:inline-block;\">&nbspurine&nbsp</span><span class=\"barcode\"; style=\"color: black; background-color: rgba(255, 0, 0, 0.21348023278472292); display:inline-block;\">&nbspas&nbsp</span><span class=\"barcode\"; style=\"color: black; background-color: rgba(255, 0, 0, 0.026795551369770226); display:inline-block;\">&nbspthe&nbsp</span><span class=\"barcode\"; style=\"color: black; background-color: rgba(255, 0, 0, 0.0); display:inline-block;\">&nbspcops&nbsp</span><span class=\"barcode\"; style=\"color: black; background-color: rgba(255, 0, 0, 0.004044859622584017); display:inline-block;\">&nbspwere&nbsp</span><span class=\"barcode\"; style=\"color: black; background-color: rgba(255, 0, 0, 0.007159665127700864); display:inline-block;\">&nbspbreaking&nbsp</span><span class=\"barcode\"; style=\"color: black; background-color: rgba(255, 0, 0, 0.007159665127700864); display:inline-block;\">&nbspdown&nbsp</span><span class=\"barcode\"; style=\"color: black; background-color: rgba(255, 0, 0, 0.0); display:inline-block;\">&nbspthe&nbsp</span><span class=\"barcode\"; style=\"color: black; background-color: rgba(255, 0, 0, 0.0); display:inline-block;\">&nbspdoor&nbsp</span><span class=\"barcode\"; style=\"color: black; background-color: rgba(255, 0, 0, 0.0); display:inline-block;\">&nbsp--&nbsp</span><span class=\"barcode\"; style=\"color: black; background-color: rgba(255, 0, 0, 0.019271477002897684); display:inline-block;\">&nbspthe&nbsp</span><span class=\"barcode\"; style=\"color: black; background-color: rgba(255, 0, 0, 0.10631815733516417); display:inline-block;\">&nbspnitrogen&nbsp</span><span class=\"barcode\"; style=\"color: black; background-color: rgba(255, 0, 0, 0.10631815733516417); display:inline-block;\">&nbspin&nbsp</span><span class=\"barcode\"; style=\"color: black; background-color: rgba(255, 0, 0, 0.10478468265499917); display:inline-block;\">&nbspthe&nbsp</span><span class=\"barcode\"; style=\"color: black; background-color: rgba(255, 0, 0, 0.08551320565210148); display:inline-block;\">&nbspurine&nbsp</span><span class=\"barcode\"; style=\"color: black; background-color: rgba(255, 0, 0, 0.0672997495409264); display:inline-block;\">&nbspwould&nbsp</span><span class=\"barcode\"; style=\"color: black; background-color: rgba(255, 0, 0, 0.0672997495409264); display:inline-block;\">&nbspmask&nbsp</span><span class=\"barcode\"; style=\"color: black; background-color: rgba(255, 0, 0, 0.14702121481832578); display:inline-block;\">&nbspany&nbsp</span><span class=\"barcode\"; style=\"color: black; background-color: rgba(255, 0, 0, 0.14702121481832578); display:inline-block;\">&nbspresidue&nbsp</span><span class=\"barcode\"; style=\"color: black; background-color: rgba(255, 0, 0, 0.0949536683698513); display:inline-block;\">&nbspfrom&nbsp</span><span class=\"barcode\"; style=\"color: black; background-color: rgba(255, 0, 0, 0.09854300365593135); display:inline-block;\">&nbspexplosives&nbsp</span><span class=\"barcode\"; style=\"color: black; background-color: rgba(255, 0, 0, 0.04030324242109618); display:inline-block;\">&nbsp.&nbsp</span><span class=\"barcode\"; style=\"color: black; background-color: rgba(255, 0, 0, 0.07295993056121294); display:inline-block;\">&nbspi&nbsp</span><span class=\"barcode\"; style=\"color: black; background-color: rgba(255, 0, 0, 0.03265668814011676); display:inline-block;\">&nbspfound&nbsp</span><span class=\"barcode\"; style=\"color: black; background-color: rgba(255, 0, 0, 0.0); display:inline-block;\">&nbspit&nbsp</span></div>"
      ],
      "text/plain": [
       "<IPython.core.display.HTML object>"
      ]
     },
     "metadata": {},
     "output_type": "display_data"
    },
    {
     "name": "stdout",
     "output_type": "stream",
     "text": [
      "----------------------------------------------------------------\n",
      "Non-overlapping ngrams evidence:\n",
      "to undergo tests for (location: [93, 94, 95, 96])\n",
      "filled with urine as (location: [123, 124, 125, 126])\n",
      "explosion thrust his hands (location: [116, 117, 118, 119])\n",
      "provide dna , semen (location: [84, 85, 86, 87])\n",
      "gunpowder residues on your (location: [97, 98, 99, 100])\n"
     ]
    },
    {
     "data": {
      "text/plain": [
       "[('to undergo tests for', [93, 94, 95, 96], 3.061652251460805),\n",
       " ('filled with urine as', [123, 124, 125, 126], 0.9063269341561986),\n",
       " ('explosion thrust his hands', [116, 117, 118, 119], 0.5732848181139784),\n",
       " ('provide dna , semen', [84, 85, 86, 87], 0.5532439973400114),\n",
       " ('gunpowder residues on your', [97, 98, 99, 100], 0.5313845255337272)]"
      ]
     },
     "execution_count": 40,
     "metadata": {},
     "output_type": "execute_result"
    }
   ],
   "source": [
    "explain_prediction_heatmap(cnn_model, input_text, actual_class, is_support = True)"
   ]
  },
  {
   "cell_type": "markdown",
   "metadata": {},
   "source": [
    "    - To use LIME, follow the code below."
   ]
  },
  {
   "cell_type": "code",
   "execution_count": 41,
   "metadata": {},
   "outputs": [
    {
     "name": "stderr",
     "output_type": "stream",
     "text": [
      "D:\\Imperial PhD\\PublishedRepos\\CNNAnalysis\\venv\\lib\\site-packages\\lime\\lime_text.py:116: FutureWarning: split() requires a non-empty pattern match.\n",
      "  self.as_list = [s for s in splitter.split(self.raw) if s]\n"
     ]
    },
    {
     "data": {
      "application/vnd.jupyter.widget-view+json": {
       "model_id": "dcd74d13ad1d4141b24c6733b09ed33f",
       "version_major": 2,
       "version_minor": 0
      },
      "text/plain": [
       "HBox(children=(IntProgress(value=0, max=5000), HTML(value='')))"
      ]
     },
     "metadata": {},
     "output_type": "display_data"
    },
    {
     "name": "stdout",
     "output_type": "stream",
     "text": [
      "\n",
      "[('undergo', 0.31298029136070904), ('password', -0.23383510463571303), ('urine', 0.17105287549307016), ('tests', 0.1705421175596789), ('residues', 0.10084355160438846), ('semen', 0.09634871273170983), ('privacy', -0.09217619132801623), ('hair', 0.08015507411512592), ('to', -0.053246490847526515), ('for', -0.02716605749078148)]\n"
     ]
    }
   ],
   "source": [
    "explainer = LimeTextExplainer(class_names=target_names)\n",
    "exp = explainer.explain_instance(input_text, cnn_model.text2proba, num_features=10, labels=[int(predicted_class)])\n",
    "print(exp.as_list(label=int(predicted_class)))"
   ]
  },
  {
   "cell_type": "markdown",
   "metadata": {},
   "source": [
    "    - To use LRP-epsilon, call `explain_example_innvestigate` and specify `lrp.epsilon` as a method. To use deeplift, change to `lrp.epsilon` to `deep_lift.wrapper`. Explain_level can be either `word` or `ngram`. "
   ]
  },
  {
   "cell_type": "code",
   "execution_count": 42,
   "metadata": {},
   "outputs": [
    {
     "name": "stdout",
     "output_type": "stream",
     "text": [
      "Input text: In article <1993Apr15.160415.8559@magnus.acs.ohio-state.edu> ashall@magnus.acs.ohio-state.edu (Andrew S Hall) writes:\n",
      ">I am postive someone will correct me if I am wrong, but doesn't the Fifth\n",
      ">also cover not being forced to do actions that are self-incriminating?\n",
      ">e.g. The police couldn't demand that you silently take them to where the\n",
      ">body is buried or where the money is hidden.\n",
      "\n",
      "But they can make you piss in a jar, and possibly provide DNA, semen,\n",
      "and hair samples or to undergo tests for gunpowder residues on your hand.\n",
      "\n",
      "(BTW, that was why the chemical engineer arrested in the WTC explosion\n",
      "thrust his hands into a toilet filled with urine as the cops were breaking\n",
      "down the door -- the nitrogen in the urine would mask any residue from\n",
      "explosives.  I found it interesting the news reported his acts, but not\n",
      "his reasons).\n",
      "\n",
      "Somewhere, perhaps a privacy group, they discussed the legal ramifications\n",
      "of using a password like\n",
      "\n",
      "  I shot Jimmy Hoffa and his body is in a storage locker in Camden\n",
      "\n",
      "a while back.  The impression I got was that real judges would dismiss\n",
      "arguments that this password is self-incrimination as first-year law\n",
      "school sophistry -- the fact that you use a statement for a password has\n",
      "no bearing on the veracity of that phrase.\n",
      "\n",
      "You are not being asked to incrimidate yourself (e.g., \"where did you\n",
      "bury the body?\"); you are being asked to provide information necessary\n",
      "to execute a legal search warrant.  Refusing to provide the password is\n",
      "akin to refusing to provide a key to a storage locker... except that they\n",
      "could always _force_ their way into the locker.\n",
      "\n",
      "Of course, that doesn't mean you have to help them _understand_ what\n",
      "they find, or point out things they overlooked in their search!\n",
      "\n",
      "----------------------------------------------------------------\n",
      "Processed text: in article < UNK > UNK ( andrew s hall ) writes : > i am postive someone will correct me if i am wrong , but does n't the fifth > also cover not being forced to do actions that are self - incriminating ? > e.g. the police could n't demand that you silently take them to where the > body is buried or where the money is hidden . but they can make you piss in a jar , and possibly provide dna , semen , and hair samples or to undergo tests for gunpowder residues on your hand . ( btw , that was why the chemical engineer arrested in the wtc explosion thrust his hands into a toilet filled with urine as the cops were breaking down the door -- the nitrogen in the urine would mask any residue from explosives . i found it\n",
      "----------------------------------------------------------------\n",
      "Predicted class: sci.med (class id: 2)\n",
      "----------------------------------------------------------------\n"
     ]
    },
    {
     "data": {
      "text/html": [
       "<div style=\"width:600px\"><span class=\"barcode\"; style=\"color: black; background-color: rgba(0, 0, 255, -0.0); display:inline-block;\">&nbspin&nbsp</span><span class=\"barcode\"; style=\"color: black; background-color: rgba(255, 0, 0, 0.006521782837808132); display:inline-block;\">&nbsparticle&nbsp</span><span class=\"barcode\"; style=\"color: black; background-color: rgba(255, 0, 0, 0.006602160632610321); display:inline-block;\">&nbsp<&nbsp</span><span class=\"barcode\"; style=\"color: black; background-color: rgba(255, 0, 0, 0.0208032988011837); display:inline-block;\">&nbspUNK&nbsp</span><span class=\"barcode\"; style=\"color: black; background-color: rgba(255, 0, 0, 0.1750074326992035); display:inline-block;\">&nbsp>&nbsp</span><span class=\"barcode\"; style=\"color: black; background-color: rgba(0, 0, 255, 0.0070035746321082115); display:inline-block;\">&nbspUNK&nbsp</span><span class=\"barcode\"; style=\"color: black; background-color: rgba(0, 0, 255, 0.027043160051107407); display:inline-block;\">&nbsp(&nbsp</span><span class=\"barcode\"; style=\"color: black; background-color: rgba(255, 0, 0, 0.05269082635641098); display:inline-block;\">&nbspandrew&nbsp</span><span class=\"barcode\"; style=\"color: black; background-color: rgba(255, 0, 0, 0.023422330617904663); display:inline-block;\">&nbsps&nbsp</span><span class=\"barcode\"; style=\"color: black; background-color: rgba(255, 0, 0, 0.06995375454425812); display:inline-block;\">&nbsphall&nbsp</span><span class=\"barcode\"; style=\"color: black; background-color: rgba(0, 0, 255, 0.5248882174491882); display:inline-block;\">&nbsp)&nbsp</span><span class=\"barcode\"; style=\"color: black; background-color: rgba(0, 0, 255, 0.2757106423377991); display:inline-block;\">&nbspwrites&nbsp</span><span class=\"barcode\"; style=\"color: black; background-color: rgba(255, 0, 0, 0.13999786972999573); display:inline-block;\">&nbsp:&nbsp</span><span class=\"barcode\"; style=\"color: black; background-color: rgba(255, 0, 0, 0.4436488151550293); display:inline-block;\">&nbsp>&nbsp</span><span class=\"barcode\"; style=\"color: black; background-color: rgba(255, 0, 0, 0.7221078276634216); display:inline-block;\">&nbspi&nbsp</span><span class=\"barcode\"; style=\"color: black; background-color: rgba(255, 0, 0, 0.23995280265808105); display:inline-block;\">&nbspam&nbsp</span><span class=\"barcode\"; style=\"color: black; background-color: rgba(255, 0, 0, 0.2543197572231293); display:inline-block;\">&nbsppostive&nbsp</span><span class=\"barcode\"; style=\"color: black; background-color: rgba(255, 0, 0, 0.008753769099712372); display:inline-block;\">&nbspsomeone&nbsp</span><span class=\"barcode\"; style=\"color: black; background-color: rgba(0, 0, 255, 0.10805124044418335); display:inline-block;\">&nbspwill&nbsp</span><span class=\"barcode\"; style=\"color: black; background-color: rgba(0, 0, 255, 0.11129435151815414); display:inline-block;\">&nbspcorrect&nbsp</span><span class=\"barcode\"; style=\"color: black; background-color: rgba(0, 0, 255, -0.0); display:inline-block;\">&nbspme&nbsp</span><span class=\"barcode\"; style=\"color: black; background-color: rgba(0, 0, 255, -0.0); display:inline-block;\">&nbspif&nbsp</span><span class=\"barcode\"; style=\"color: black; background-color: rgba(0, 0, 255, 0.021574823185801506); display:inline-block;\">&nbspi&nbsp</span><span class=\"barcode\"; style=\"color: black; background-color: rgba(0, 0, 255, 0.046541716903448105); display:inline-block;\">&nbspam&nbsp</span><span class=\"barcode\"; style=\"color: black; background-color: rgba(0, 0, 255, -0.0); display:inline-block;\">&nbspwrong&nbsp</span><span class=\"barcode\"; style=\"color: black; background-color: rgba(0, 0, 255, -0.0); display:inline-block;\">&nbsp,&nbsp</span><span class=\"barcode\"; style=\"color: black; background-color: rgba(0, 0, 255, -0.0); display:inline-block;\">&nbspbut&nbsp</span><span class=\"barcode\"; style=\"color: black; background-color: rgba(0, 0, 255, -0.0); display:inline-block;\">&nbspdoes&nbsp</span><span class=\"barcode\"; style=\"color: black; background-color: rgba(0, 0, 255, -0.0); display:inline-block;\">&nbspn't&nbsp</span><span class=\"barcode\"; style=\"color: black; background-color: rgba(0, 0, 255, -0.0); display:inline-block;\">&nbspthe&nbsp</span><span class=\"barcode\"; style=\"color: black; background-color: rgba(255, 0, 0, 0.2280520796775818); display:inline-block;\">&nbspfifth&nbsp</span><span class=\"barcode\"; style=\"color: black; background-color: rgba(255, 0, 0, 0.20805487036705017); display:inline-block;\">&nbsp>&nbsp</span><span class=\"barcode\"; style=\"color: black; background-color: rgba(0, 0, 255, -0.0); display:inline-block;\">&nbspalso&nbsp</span><span class=\"barcode\"; style=\"color: black; background-color: rgba(0, 0, 255, -0.0); display:inline-block;\">&nbspcover&nbsp</span><span class=\"barcode\"; style=\"color: black; background-color: rgba(0, 0, 255, -0.0); display:inline-block;\">&nbspnot&nbsp</span><span class=\"barcode\"; style=\"color: black; background-color: rgba(0, 0, 255, 0.045712318271398544); display:inline-block;\">&nbspbeing&nbsp</span><span class=\"barcode\"; style=\"color: black; background-color: rgba(0, 0, 255, 0.09502378106117249); display:inline-block;\">&nbspforced&nbsp</span><span class=\"barcode\"; style=\"color: black; background-color: rgba(0, 0, 255, 0.05354148522019386); display:inline-block;\">&nbspto&nbsp</span><span class=\"barcode\"; style=\"color: black; background-color: rgba(255, 0, 0, 0.021427473053336143); display:inline-block;\">&nbspdo&nbsp</span><span class=\"barcode\"; style=\"color: black; background-color: rgba(0, 0, 255, 0.27758485078811646); display:inline-block;\">&nbspactions&nbsp</span><span class=\"barcode\"; style=\"color: black; background-color: rgba(255, 0, 0, 0.15447407960891724); display:inline-block;\">&nbspthat&nbsp</span><span class=\"barcode\"; style=\"color: black; background-color: rgba(0, 0, 255, 0.34928765892982483); display:inline-block;\">&nbspare&nbsp</span><span class=\"barcode\"; style=\"color: black; background-color: rgba(0, 0, 255, 0.15610478818416595); display:inline-block;\">&nbspself&nbsp</span><span class=\"barcode\"; style=\"color: black; background-color: rgba(0, 0, 255, 0.21799293160438538); display:inline-block;\">&nbsp-&nbsp</span><span class=\"barcode\"; style=\"color: black; background-color: rgba(0, 0, 255, 0.18675880134105682); display:inline-block;\">&nbspincriminating&nbsp</span><span class=\"barcode\"; style=\"color: black; background-color: rgba(0, 0, 255, 0.0012724442640319467); display:inline-block;\">&nbsp?&nbsp</span><span class=\"barcode\"; style=\"color: black; background-color: rgba(0, 0, 255, 0.0006030130898579955); display:inline-block;\">&nbsp>&nbsp</span><span class=\"barcode\"; style=\"color: black; background-color: rgba(0, 0, 255, -0.0); display:inline-block;\">&nbspe.g.&nbsp</span><span class=\"barcode\"; style=\"color: black; background-color: rgba(255, 0, 0, 0.0005312344874255359); display:inline-block;\">&nbspthe&nbsp</span><span class=\"barcode\"; style=\"color: black; background-color: rgba(0, 0, 255, 0.19162170588970184); display:inline-block;\">&nbsppolice&nbsp</span><span class=\"barcode\"; style=\"color: black; background-color: rgba(0, 0, 255, 0.08534319698810577); display:inline-block;\">&nbspcould&nbsp</span><span class=\"barcode\"; style=\"color: black; background-color: rgba(0, 0, 255, -0.0); display:inline-block;\">&nbspn't&nbsp</span><span class=\"barcode\"; style=\"color: black; background-color: rgba(255, 0, 0, 0.12872323393821716); display:inline-block;\">&nbspdemand&nbsp</span><span class=\"barcode\"; style=\"color: black; background-color: rgba(0, 0, 255, 0.0119518106803298); display:inline-block;\">&nbspthat&nbsp</span><span class=\"barcode\"; style=\"color: black; background-color: rgba(255, 0, 0, 0.14574287831783295); display:inline-block;\">&nbspyou&nbsp</span><span class=\"barcode\"; style=\"color: black; background-color: rgba(0, 0, 255, -0.0); display:inline-block;\">&nbspsilently&nbsp</span><span class=\"barcode\"; style=\"color: black; background-color: rgba(0, 0, 255, -0.0); display:inline-block;\">&nbsptake&nbsp</span><span class=\"barcode\"; style=\"color: black; background-color: rgba(0, 0, 255, -0.0); display:inline-block;\">&nbspthem&nbsp</span><span class=\"barcode\"; style=\"color: black; background-color: rgba(0, 0, 255, -0.0); display:inline-block;\">&nbspto&nbsp</span><span class=\"barcode\"; style=\"color: black; background-color: rgba(0, 0, 255, -0.0); display:inline-block;\">&nbspwhere&nbsp</span><span class=\"barcode\"; style=\"color: black; background-color: rgba(0, 0, 255, 0.04004303738474846); display:inline-block;\">&nbspthe&nbsp</span><span class=\"barcode\"; style=\"color: black; background-color: rgba(255, 0, 0, 0.021910902112722397); display:inline-block;\">&nbsp>&nbsp</span><span class=\"barcode\"; style=\"color: black; background-color: rgba(0, 0, 255, 0.07300650328397751); display:inline-block;\">&nbspbody&nbsp</span><span class=\"barcode\"; style=\"color: black; background-color: rgba(0, 0, 255, 0.06128488853573799); display:inline-block;\">&nbspis&nbsp</span><span class=\"barcode\"; style=\"color: black; background-color: rgba(0, 0, 255, 0.13075673580169678); display:inline-block;\">&nbspburied&nbsp</span><span class=\"barcode\"; style=\"color: black; background-color: rgba(255, 0, 0, 0.006634220480918884); display:inline-block;\">&nbspor&nbsp</span><span class=\"barcode\"; style=\"color: black; background-color: rgba(0, 0, 255, -0.0); display:inline-block;\">&nbspwhere&nbsp</span><span class=\"barcode\"; style=\"color: black; background-color: rgba(0, 0, 255, -0.0); display:inline-block;\">&nbspthe&nbsp</span><span class=\"barcode\"; style=\"color: black; background-color: rgba(0, 0, 255, -0.0); display:inline-block;\">&nbspmoney&nbsp</span><span class=\"barcode\"; style=\"color: black; background-color: rgba(0, 0, 255, 0.03087860904633999); display:inline-block;\">&nbspis&nbsp</span><span class=\"barcode\"; style=\"color: black; background-color: rgba(0, 0, 255, 0.07233284413814545); display:inline-block;\">&nbsphidden&nbsp</span><span class=\"barcode\"; style=\"color: black; background-color: rgba(0, 0, 255, 0.03465379774570465); display:inline-block;\">&nbsp.&nbsp</span><span class=\"barcode\"; style=\"color: black; background-color: rgba(0, 0, 255, 0.028624307364225388); display:inline-block;\">&nbspbut&nbsp</span><span class=\"barcode\"; style=\"color: black; background-color: rgba(0, 0, 255, 0.17678634822368622); display:inline-block;\">&nbspthey&nbsp</span><span class=\"barcode\"; style=\"color: black; background-color: rgba(0, 0, 255, -0.0); display:inline-block;\">&nbspcan&nbsp</span><span class=\"barcode\"; style=\"color: black; background-color: rgba(0, 0, 255, 0.005680599715560675); display:inline-block;\">&nbspmake&nbsp</span><span class=\"barcode\"; style=\"color: black; background-color: rgba(255, 0, 0, 0.029151033610105515); display:inline-block;\">&nbspyou&nbsp</span><span class=\"barcode\"; style=\"color: black; background-color: rgba(0, 0, 255, 0.05655503273010254); display:inline-block;\">&nbsppiss&nbsp</span><span class=\"barcode\"; style=\"color: black; background-color: rgba(0, 0, 255, 0.09806133061647415); display:inline-block;\">&nbspin&nbsp</span><span class=\"barcode\"; style=\"color: black; background-color: rgba(255, 0, 0, 0.05505947396159172); display:inline-block;\">&nbspa&nbsp</span><span class=\"barcode\"; style=\"color: black; background-color: rgba(0, 0, 255, 0.021343562752008438); display:inline-block;\">&nbspjar&nbsp</span><span class=\"barcode\"; style=\"color: black; background-color: rgba(0, 0, 255, -0.0); display:inline-block;\">&nbsp,&nbsp</span><span class=\"barcode\"; style=\"color: black; background-color: rgba(0, 0, 255, -0.0); display:inline-block;\">&nbspand&nbsp</span><span class=\"barcode\"; style=\"color: black; background-color: rgba(0, 0, 255, 0.0489811971783638); display:inline-block;\">&nbsppossibly&nbsp</span><span class=\"barcode\"; style=\"color: black; background-color: rgba(0, 0, 255, 0.10237102955579758); display:inline-block;\">&nbspprovide&nbsp</span><span class=\"barcode\"; style=\"color: black; background-color: rgba(0, 0, 255, 0.19039340317249298); display:inline-block;\">&nbspdna&nbsp</span><span class=\"barcode\"; style=\"color: black; background-color: rgba(0, 0, 255, 0.01475996058434248); display:inline-block;\">&nbsp,&nbsp</span><span class=\"barcode\"; style=\"color: black; background-color: rgba(0, 0, 255, 0.11546949297189713); display:inline-block;\">&nbspsemen&nbsp</span><span class=\"barcode\"; style=\"color: black; background-color: rgba(0, 0, 255, 0.010394358076155186); display:inline-block;\">&nbsp,&nbsp</span><span class=\"barcode\"; style=\"color: black; background-color: rgba(0, 0, 255, 0.024770354852080345); display:inline-block;\">&nbspand&nbsp</span><span class=\"barcode\"; style=\"color: black; background-color: rgba(0, 0, 255, 0.13806869089603424); display:inline-block;\">&nbsphair&nbsp</span><span class=\"barcode\"; style=\"color: black; background-color: rgba(0, 0, 255, 0.010779676027595997); display:inline-block;\">&nbspsamples&nbsp</span><span class=\"barcode\"; style=\"color: black; background-color: rgba(255, 0, 0, 0.030633630231022835); display:inline-block;\">&nbspor&nbsp</span><span class=\"barcode\"; style=\"color: black; background-color: rgba(255, 0, 0, 0.07491309195756912); display:inline-block;\">&nbspto&nbsp</span><span class=\"barcode\"; style=\"color: black; background-color: rgba(255, 0, 0, 0.5126957893371582); display:inline-block;\">&nbspundergo&nbsp</span><span class=\"barcode\"; style=\"color: black; background-color: rgba(0, 0, 255, 0.28648874163627625); display:inline-block;\">&nbsptests&nbsp</span><span class=\"barcode\"; style=\"color: black; background-color: rgba(0, 0, 255, 0.24071316421031952); display:inline-block;\">&nbspfor&nbsp</span><span class=\"barcode\"; style=\"color: black; background-color: rgba(255, 0, 0, 0.14606255292892456); display:inline-block;\">&nbspgunpowder&nbsp</span><span class=\"barcode\"; style=\"color: black; background-color: rgba(255, 0, 0, 0.3593035936355591); display:inline-block;\">&nbspresidues&nbsp</span><span class=\"barcode\"; style=\"color: black; background-color: rgba(255, 0, 0, 0.29387983679771423); display:inline-block;\">&nbspon&nbsp</span><span class=\"barcode\"; style=\"color: black; background-color: rgba(255, 0, 0, 0.07985210418701172); display:inline-block;\">&nbspyour&nbsp</span><span class=\"barcode\"; style=\"color: black; background-color: rgba(0, 0, 255, 0.0064133633859455585); display:inline-block;\">&nbsphand&nbsp</span><span class=\"barcode\"; style=\"color: black; background-color: rgba(0, 0, 255, 0.0012693111784756184); display:inline-block;\">&nbsp.&nbsp</span><span class=\"barcode\"; style=\"color: black; background-color: rgba(0, 0, 255, -0.0); display:inline-block;\">&nbsp(&nbsp</span><span class=\"barcode\"; style=\"color: black; background-color: rgba(0, 0, 255, -0.0); display:inline-block;\">&nbspbtw&nbsp</span><span class=\"barcode\"; style=\"color: black; background-color: rgba(0, 0, 255, -0.0); display:inline-block;\">&nbsp,&nbsp</span><span class=\"barcode\"; style=\"color: black; background-color: rgba(0, 0, 255, -0.0); display:inline-block;\">&nbspthat&nbsp</span><span class=\"barcode\"; style=\"color: black; background-color: rgba(255, 0, 0, 0.037972886115312576); display:inline-block;\">&nbspwas&nbsp</span><span class=\"barcode\"; style=\"color: black; background-color: rgba(0, 0, 255, 0.049160756170749664); display:inline-block;\">&nbspwhy&nbsp</span><span class=\"barcode\"; style=\"color: black; background-color: rgba(255, 0, 0, 0.020421668887138367); display:inline-block;\">&nbspthe&nbsp</span><span class=\"barcode\"; style=\"color: black; background-color: rgba(0, 0, 255, 0.2969670295715332); display:inline-block;\">&nbspchemical&nbsp</span><span class=\"barcode\"; style=\"color: black; background-color: rgba(255, 0, 0, 0.16750642657279968); display:inline-block;\">&nbspengineer&nbsp</span><span class=\"barcode\"; style=\"color: black; background-color: rgba(255, 0, 0, 0.27628591656684875); display:inline-block;\">&nbsparrested&nbsp</span><span class=\"barcode\"; style=\"color: black; background-color: rgba(0, 0, 255, 0.04603016749024391); display:inline-block;\">&nbspin&nbsp</span><span class=\"barcode\"; style=\"color: black; background-color: rgba(0, 0, 255, 0.08330897241830826); display:inline-block;\">&nbspthe&nbsp</span><span class=\"barcode\"; style=\"color: black; background-color: rgba(255, 0, 0, 0.5117843747138977); display:inline-block;\">&nbspwtc&nbsp</span><span class=\"barcode\"; style=\"color: black; background-color: rgba(0, 0, 255, 0.072928786277771); display:inline-block;\">&nbspexplosion&nbsp</span><span class=\"barcode\"; style=\"color: black; background-color: rgba(255, 0, 0, 0.3046903610229492); display:inline-block;\">&nbspthrust&nbsp</span><span class=\"barcode\"; style=\"color: black; background-color: rgba(255, 0, 0, 0.38907673954963684); display:inline-block;\">&nbsphis&nbsp</span><span class=\"barcode\"; style=\"color: black; background-color: rgba(255, 0, 0, 0.09497632086277008); display:inline-block;\">&nbsphands&nbsp</span><span class=\"barcode\"; style=\"color: black; background-color: rgba(0, 0, 255, -0.0); display:inline-block;\">&nbspinto&nbsp</span><span class=\"barcode\"; style=\"color: black; background-color: rgba(0, 0, 255, -0.0); display:inline-block;\">&nbspa&nbsp</span><span class=\"barcode\"; style=\"color: black; background-color: rgba(255, 0, 0, 0.059179794043302536); display:inline-block;\">&nbsptoilet&nbsp</span><span class=\"barcode\"; style=\"color: black; background-color: rgba(0, 0, 255, 0.09637769311666489); display:inline-block;\">&nbspfilled&nbsp</span><span class=\"barcode\"; style=\"color: black; background-color: rgba(255, 0, 0, 0.10162978619337082); display:inline-block;\">&nbspwith&nbsp</span><span class=\"barcode\"; style=\"color: black; background-color: rgba(255, 0, 0, 0.12638650834560394); display:inline-block;\">&nbspurine&nbsp</span><span class=\"barcode\"; style=\"color: black; background-color: rgba(255, 0, 0, 0.005644915159791708); display:inline-block;\">&nbspas&nbsp</span><span class=\"barcode\"; style=\"color: black; background-color: rgba(0, 0, 255, 0.26739996671676636); display:inline-block;\">&nbspthe&nbsp</span><span class=\"barcode\"; style=\"color: black; background-color: rgba(0, 0, 255, 0.33266371488571167); display:inline-block;\">&nbspcops&nbsp</span><span class=\"barcode\"; style=\"color: black; background-color: rgba(255, 0, 0, 0.05455448478460312); display:inline-block;\">&nbspwere&nbsp</span><span class=\"barcode\"; style=\"color: black; background-color: rgba(255, 0, 0, 0.032935407012701035); display:inline-block;\">&nbspbreaking&nbsp</span><span class=\"barcode\"; style=\"color: black; background-color: rgba(0, 0, 255, 0.6484418511390686); display:inline-block;\">&nbspdown&nbsp</span><span class=\"barcode\"; style=\"color: black; background-color: rgba(0, 0, 255, 0.031039681285619736); display:inline-block;\">&nbspthe&nbsp</span><span class=\"barcode\"; style=\"color: black; background-color: rgba(0, 0, 255, 0.0995880514383316); display:inline-block;\">&nbspdoor&nbsp</span><span class=\"barcode\"; style=\"color: black; background-color: rgba(255, 0, 0, 0.06324707716703415); display:inline-block;\">&nbsp--&nbsp</span><span class=\"barcode\"; style=\"color: black; background-color: rgba(255, 0, 0, 0.037421535700559616); display:inline-block;\">&nbspthe&nbsp</span><span class=\"barcode\"; style=\"color: black; background-color: rgba(255, 0, 0, 1.0); display:inline-block;\">&nbspnitrogen&nbsp</span><span class=\"barcode\"; style=\"color: black; background-color: rgba(255, 0, 0, 0.23999464511871338); display:inline-block;\">&nbspin&nbsp</span><span class=\"barcode\"; style=\"color: black; background-color: rgba(255, 0, 0, 0.27821967005729675); display:inline-block;\">&nbspthe&nbsp</span><span class=\"barcode\"; style=\"color: black; background-color: rgba(0, 0, 255, 0.06046199053525925); display:inline-block;\">&nbspurine&nbsp</span><span class=\"barcode\"; style=\"color: black; background-color: rgba(0, 0, 255, 0.002200843533501029); display:inline-block;\">&nbspwould&nbsp</span><span class=\"barcode\"; style=\"color: black; background-color: rgba(0, 0, 255, 0.02658691257238388); display:inline-block;\">&nbspmask&nbsp</span><span class=\"barcode\"; style=\"color: black; background-color: rgba(255, 0, 0, 0.2061908096075058); display:inline-block;\">&nbspany&nbsp</span><span class=\"barcode\"; style=\"color: black; background-color: rgba(255, 0, 0, 0.18206724524497986); display:inline-block;\">&nbspresidue&nbsp</span><span class=\"barcode\"; style=\"color: black; background-color: rgba(255, 0, 0, 0.1610913872718811); display:inline-block;\">&nbspfrom&nbsp</span><span class=\"barcode\"; style=\"color: black; background-color: rgba(255, 0, 0, 0.10769882798194885); display:inline-block;\">&nbspexplosives&nbsp</span><span class=\"barcode\"; style=\"color: black; background-color: rgba(255, 0, 0, 0.05799108371138573); display:inline-block;\">&nbsp.&nbsp</span><span class=\"barcode\"; style=\"color: black; background-color: rgba(255, 0, 0, 0.42719313502311707); display:inline-block;\">&nbspi&nbsp</span><span class=\"barcode\"; style=\"color: black; background-color: rgba(255, 0, 0, 0.2599041163921356); display:inline-block;\">&nbspfound&nbsp</span><span class=\"barcode\"; style=\"color: black; background-color: rgba(0, 0, 255, -0.0); display:inline-block;\">&nbspit&nbsp</span></div>"
      ],
      "text/plain": [
       "<IPython.core.display.HTML object>"
      ]
     },
     "metadata": {},
     "output_type": "display_data"
    },
    {
     "name": "stdout",
     "output_type": "stream",
     "text": [
      "----------------------------------------------------------------\n",
      "Non-overlapping ngrams evidence:\n",
      "nitrogen (location: [136])\n",
      "i (location: [14])\n",
      "undergo (location: [94])\n",
      "wtc (location: [115])\n",
      "> (location: [13])\n"
     ]
    },
    {
     "data": {
      "text/plain": [
       "[('nitrogen', [136], 0.42666155),\n",
       " ('i', [14], 0.30809563),\n",
       " ('undergo', [94], 0.21874759),\n",
       " ('wtc', [115], 0.21835871),\n",
       " ('>', [13], 0.18928789)]"
      ]
     },
     "execution_count": 42,
     "metadata": {},
     "output_type": "execute_result"
    }
   ],
   "source": [
    "explain_example_innvestigate(cnn_model, input_text, 'lrp.epsilon', explain_level = \"word\", is_support = True)"
   ]
  },
  {
   "cell_type": "markdown",
   "metadata": {},
   "source": [
    "    - To use decision trees, use the following code."
   ]
  },
  {
   "cell_type": "code",
   "execution_count": 43,
   "metadata": {},
   "outputs": [
    {
     "data": {
      "text/html": [
       "<div>\n",
       "<style scoped>\n",
       "    .dataframe tbody tr th:only-of-type {\n",
       "        vertical-align: middle;\n",
       "    }\n",
       "\n",
       "    .dataframe tbody tr th {\n",
       "        vertical-align: top;\n",
       "    }\n",
       "\n",
       "    .dataframe thead th {\n",
       "        text-align: right;\n",
       "    }\n",
       "</style>\n",
       "<table border=\"1\" class=\"dataframe\">\n",
       "  <thead>\n",
       "    <tr style=\"text-align: right;\">\n",
       "      <th></th>\n",
       "      <th>Filter ID</th>\n",
       "      <th>Class identity</th>\n",
       "      <th>Class name</th>\n",
       "      <th>N-grams</th>\n",
       "      <th>Positions</th>\n",
       "    </tr>\n",
       "  </thead>\n",
       "  <tbody>\n",
       "    <tr>\n",
       "      <th>0</th>\n",
       "      <td>79</td>\n",
       "      <td>2</td>\n",
       "      <td>sci.med</td>\n",
       "      <td>dna , semen</td>\n",
       "      <td>[[85, 86, 87]]</td>\n",
       "    </tr>\n",
       "    <tr>\n",
       "      <th>1</th>\n",
       "      <td>123</td>\n",
       "      <td>2</td>\n",
       "      <td>sci.med</td>\n",
       "      <td>or to undergo tests</td>\n",
       "      <td>[[92, 93, 94, 95]]</td>\n",
       "    </tr>\n",
       "    <tr>\n",
       "      <th>2</th>\n",
       "      <td>134</td>\n",
       "      <td>2</td>\n",
       "      <td>sci.med</td>\n",
       "      <td>or to undergo tests</td>\n",
       "      <td>[[92, 93, 94, 95]]</td>\n",
       "    </tr>\n",
       "  </tbody>\n",
       "</table>\n",
       "</div>"
      ],
      "text/plain": [
       "   Filter ID  Class identity Class name              N-grams  \\\n",
       "0         79               2    sci.med          dna , semen   \n",
       "1        123               2    sci.med  or to undergo tests   \n",
       "2        134               2    sci.med  or to undergo tests   \n",
       "\n",
       "            Positions  \n",
       "0      [[85, 86, 87]]  \n",
       "1  [[92, 93, 94, 95]]  \n",
       "2  [[92, 93, 94, 95]]  "
      ]
     },
     "execution_count": 43,
     "metadata": {},
     "output_type": "execute_result"
    }
   ],
   "source": [
    "explain_prediction_global(cnn_model, cnn_model.pruned_tree_list, input_text, print_results = False)"
   ]
  },
  {
   "cell_type": "markdown",
   "metadata": {},
   "source": [
    "    - To draw the generated decision trees, use the following code. The results will be in the project path folder."
   ]
  },
  {
   "cell_type": "code",
   "execution_count": 44,
   "metadata": {},
   "outputs": [
    {
     "data": {
      "application/vnd.jupyter.widget-view+json": {
       "model_id": "c91a29f67af24be481d16634eee5adc0",
       "version_major": 2,
       "version_minor": 0
      },
      "text/plain": [
       "HBox(children=(IntProgress(value=0, max=4), HTML(value='')))"
      ]
     },
     "metadata": {},
     "output_type": "display_data"
    },
    {
     "name": "stdout",
     "output_type": "stream",
     "text": [
      "\n"
     ]
    }
   ],
   "source": [
    "draw_tree_list(cnn_model.pruned_tree_list, cnn_model, folder = project_path)"
   ]
  },
  {
   "cell_type": "code",
   "execution_count": null,
   "metadata": {},
   "outputs": [],
   "source": []
  }
 ],
 "metadata": {
  "kernelspec": {
   "display_name": "venv",
   "language": "python",
   "name": "venv"
  },
  "language_info": {
   "codemirror_mode": {
    "name": "ipython",
    "version": 3
   },
   "file_extension": ".py",
   "mimetype": "text/x-python",
   "name": "python",
   "nbconvert_exporter": "python",
   "pygments_lexer": "ipython3",
   "version": "3.6.3"
  }
 },
 "nbformat": 4,
 "nbformat_minor": 2
}
